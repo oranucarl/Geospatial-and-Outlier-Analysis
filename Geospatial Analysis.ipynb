{
 "cells": [
  {
   "cell_type": "code",
   "execution_count": null,
   "id": "76222b07",
   "metadata": {},
   "outputs": [],
   "source": [
    "import pandas as pd\n",
    "from math import radians, sin, cos, sqrt, atan2\n",
    "import numpy as np\n",
    "from sklearn.cluster import DBSCAN\n",
    "import os\n",
    "import seaborn as sns\n",
    "import matplotlib.pyplot as plt\n",
    "import folium"
   ]
  },
  {
   "cell_type": "code",
   "execution_count": null,
   "id": "37944dde",
   "metadata": {},
   "outputs": [],
   "source": [
    "\n",
    "df = pd.read_csv('/Users/carlsonoranu/Downloads/Election.csv')"
   ]
  },
  {
   "cell_type": "code",
   "execution_count": null,
   "id": "fa6a7203",
   "metadata": {},
   "outputs": [],
   "source": [
    "\n",
    "df = df.drop(columns=['State', 'PU-Code', 'Results_Found', 'Result_Sheet_Unclear', 'Results_File', 'Result_Sheet_Unsigned'])\n",
    "\n",
    "print(df.head(5))"
   ]
  },
  {
   "cell_type": "code",
   "execution_count": null,
   "id": "3d8fe152",
   "metadata": {},
   "outputs": [],
   "source": [
    "\n",
    "coords = df[['Latitude', 'Longitude']].values"
   ]
  },
  {
   "cell_type": "code",
   "execution_count": null,
   "id": "fe23f9e3",
   "metadata": {},
   "outputs": [],
   "source": [
    "# Haversine formula\n",
    "def haversine(coord1, coord2):\n",
    "    lat1, lon1 = coord1\n",
    "    lat2, lon2 = coord2\n",
    "    lat1, lon1, lat2, lon2 = map(radians, [lat1, lon1, lat2, lon2])\n",
    "    dlon = lon2 - lon1\n",
    "    dlat = lat2 - lat1\n",
    "    a = sin(dlat/2)**2 + cos(lat1) * cos(lat2) * sin(dlon/2)**2\n",
    "    c = 2 * atan2(sqrt(a), sqrt(1-a))\n",
    "    r = 6371  # Radius of Earth in kilometers\n",
    "    return r * c\n",
    "\n",
    "n = len(coords)\n",
    "dist_matrix = np.zeros((n, n))\n",
    "\n",
    "for i in range(n):\n",
    "    for j in range(i + 1, n):\n",
    "        dist = haversine(coords[i], coords[j])\n",
    "        dist_matrix[i, j] = dist\n",
    "        dist_matrix[j, i] = dist  # Symmetric entry"
   ]
  },
  {
   "cell_type": "code",
   "execution_count": null,
   "id": "ed730685",
   "metadata": {},
   "outputs": [],
   "source": [
    "\n",
    "dist_matrix_df = pd.DataFrame(dist_matrix)"
   ]
  },
  {
   "cell_type": "code",
   "execution_count": null,
   "id": "c72b9b97",
   "metadata": {},
   "outputs": [],
   "source": [
    "# Define DBSCAN parameters\n",
    "db = DBSCAN(eps=1, min_samples=2, metric='precomputed')\n",
    "\n",
    "labels = db.fit_predict(dist_matrix)\n",
    "\n",
    "df['Cluster'] = labels"
   ]
  },
  {
   "cell_type": "code",
   "execution_count": null,
   "id": "b89e75a7",
   "metadata": {},
   "outputs": [],
   "source": [
    "# Function to calculate outlier scores, means, and standard deviations\n",
    "def calculate_stats(df, party):\n",
    "    grouped = df.groupby('Cluster')[party]\n",
    "    means = grouped.transform('mean')\n",
    "    stds = grouped.transform('std')\n",
    "    \n",
    "    outlier_scores = (df[party] - means) / stds\n",
    "    outlier_scores = outlier_scores.fillna(0)  # accounting for any NaW values\n",
    "    return outlier_scores, means, stds"
   ]
  },
  {
   "cell_type": "code",
   "execution_count": null,
   "id": "a614a6af",
   "metadata": {},
   "outputs": [],
   "source": [
    "\n",
    "for party in ['APC', 'LP', 'PDP', 'NNPP']:\n",
    "    df[f'{party}_Outlier_Score'], df[f'{party}_Mean'], df[f'{party}_Std'] = calculate_stats(df, party)"
   ]
  },
  {
   "cell_type": "code",
   "execution_count": null,
   "id": "6232965c",
   "metadata": {},
   "outputs": [],
   "source": [
    "\n",
    "sorted_dfs = {}\n",
    "for party in ['APC', 'LP', 'PDP', 'NNPP']:\n",
    "    sorted_dfs[party] = df.sort_values(by=f'{party}_Outlier_Score', ascending=False)"
   ]
  },
  {
   "cell_type": "code",
   "execution_count": null,
   "id": "202f3919",
   "metadata": {},
   "outputs": [],
   "source": [
    "# Create a directory to save the cluster files\n",
    "clusters_dir = '/Users/carlsonoranu/Downloads/clusters'\n",
    "os.makedirs(clusters_dir, exist_ok=True)"
   ]
  },
  {
   "cell_type": "code",
   "execution_count": null,
   "id": "f1128d4c",
   "metadata": {},
   "outputs": [],
   "source": [
    "\n",
    "output_file = os.path.join(clusters_dir, 'sorted_clusters.xlsx')\n",
    "with pd.ExcelWriter(output_file) as writer:\n",
    "    for party, sorted_df in sorted_dfs.items():\n",
    "        sorted_df.to_excel(writer, sheet_name=party, index=False)"
   ]
  },
  {
   "cell_type": "code",
   "execution_count": null,
   "id": "b81864fb",
   "metadata": {
    "scrolled": false
   },
   "outputs": [],
   "source": [
    "\n",
    "# Box plot for All Political Parties\n",
    "df['Cluster'] = df['Cluster'].astype('category')\n",
    "\n",
    "df['Cluster_Group'] = (df['Cluster'].astype(int) // 10) * 10\n",
    "\n",
    "def plot_votes_by_cluster(party):\n",
    "    plt.figure(figsize=(14, 7))\n",
    "    sns.boxplot(x='Cluster_Group', y=party, data=df, palette=\"Set3\")\n",
    "    plt.title(f'Distribution of {party} Votes by Cluster Group')\n",
    "    plt.xlabel('Cluster Group')\n",
    "    plt.ylabel(f'{party} Votes')\n",
    "    plt.xticks(rotation=90)\n",
    "    plt.show()\n",
    "\n",
    "# Plot for APC\n",
    "plot_votes_by_cluster('APC')\n",
    "\n",
    "# Plot for LP\n",
    "plot_votes_by_cluster('LP')\n",
    "\n",
    "# Plot for PDP\n",
    "plot_votes_by_cluster('PDP')\n",
    "\n",
    "# Plot for NNPP\n",
    "plot_votes_by_cluster('NNPP')\n"
   ]
  },
  {
   "cell_type": "code",
   "execution_count": null,
   "id": "2842cb6a",
   "metadata": {},
   "outputs": [],
   "source": [
    "import folium\n",
    "from folium.plugins import MarkerCluster\n",
    "\n",
    "# Initialize a map\n",
    "m = folium.Map(location=[df['Latitude'].mean(), df['Longitude'].mean()], zoom_start=6)\n",
    "\n",
    "# Add markers\n",
    "marker_cluster = MarkerCluster().add_to(m)\n",
    "\n",
    "# Iterate through the dataframe and add markers\n",
    "for idx, row in df.iterrows():\n",
    "    color = 'blue'  # Default color for clusters\n",
    "    if abs(row['APC_Outlier_Score']) > 2 or abs(row['LP_Outlier_Score']) > 2 or abs(row['PDP_Outlier_Score']) > 2 or abs(row['NNPP_Outlier_Score']) > 2:\n",
    "        color = 'red'  # Color for outliers\n",
    "    folium.CircleMarker(\n",
    "        location=[row['Latitude'], row['Longitude']],\n",
    "        radius=5,\n",
    "        color=color,\n",
    "        fill=True,\n",
    "        fill_color=color,\n",
    "        fill_opacity=0.7,\n",
    "        popup=f'Cluster: {row[\"Cluster\"]}<br>APC: {row[\"APC\"]}<br>LP: {row[\"LP\"]}<br>PDP: {row[\"PDP\"]}<br>NNPP: {row[\"NNPP\"]}'\n",
    "    ).add_to(marker_cluster)\n",
    "\n",
    "# Save the map to an HTML file\n",
    "m.save('clusters_and_outliers_map.html')\n",
    "\n"
   ]
  },
  {
   "cell_type": "code",
   "execution_count": null,
   "id": "42510a25",
   "metadata": {},
   "outputs": [],
   "source": [
    "import matplotlib.pyplot as plt\n",
    "import seaborn as sns\n",
    "\n",
    "# Calculate the mean votes by cluster\n",
    "mean_votes = df.groupby('Cluster')[['APC', 'LP', 'PDP', 'NNPP']].mean().reset_index()\n",
    "\n",
    "# Melt the dataframe for easier plotting\n",
    "melted_votes = mean_votes.melt(id_vars='Cluster', var_name='Party', value_name='Votes')\n",
    "\n",
    "# Plot the bar chart\n",
    "plt.figure(figsize=(14, 7))\n",
    "sns.barplot(x='Cluster', y='Votes', hue='Party', data=melted_votes, palette=\"Set3\")\n",
    "plt.title('Average Votes by Cluster')\n",
    "plt.xlabel('Cluster')\n",
    "plt.ylabel('Average Votes')\n",
    "plt.xticks(rotation=90)\n",
    "plt.show()\n"
   ]
  },
  {
   "cell_type": "code",
   "execution_count": null,
   "id": "5f7f3f62",
   "metadata": {},
   "outputs": [],
   "source": [
    "# Data Distribution\n",
    "melted_z_scores = df.melt(id_vars='Cluster', value_vars=['APC_Outlier_Score', 'LP_Outlier_Score', 'PDP_Outlier_Score', 'NNPP_Outlier_Score'], \n",
    "                          var_name='Party', value_name='Outlier_Score')\n",
    "\n",
    "# Plot the violin plot\n",
    "plt.figure(figsize=(14, 7))\n",
    "sns.violinplot(x='Party', y='Outlier_Score', data=melted_z_scores, palette=\"Set3\")\n",
    "plt.title('Outlier Score Distribution by Party')\n",
    "plt.xlabel('Party')\n",
    "plt.ylabel('Outlier_Score')\n",
    "plt.show()\n"
   ]
  },
  {
   "cell_type": "code",
   "execution_count": null,
   "id": "4a98a9bb",
   "metadata": {},
   "outputs": [],
   "source": []
  }
 ],
 "metadata": {
  "kernelspec": {
   "display_name": "Python 3 (ipykernel)",
   "language": "python",
   "name": "python3"
  },
  "language_info": {
   "codemirror_mode": {
    "name": "ipython",
    "version": 3
   },
   "file_extension": ".py",
   "mimetype": "text/x-python",
   "name": "python",
   "nbconvert_exporter": "python",
   "pygments_lexer": "ipython3",
   "version": "3.11.4"
  }
 },
 "nbformat": 4,
 "nbformat_minor": 5
}
